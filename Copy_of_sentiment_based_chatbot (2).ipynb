{
  "cells": [
    {
      "cell_type": "markdown",
      "source": [
        "# install all lib"
      ],
      "metadata": {
        "id": "3vudXm_cnBiz"
      }
    },
    {
      "cell_type": "code",
      "execution_count": 31,
      "metadata": {
        "id": "vXedM2g1Qc7h"
      },
      "outputs": [],
      "source": [
        "#  !pip install transformers\n",
        "# !pip install pyngrok\n",
        "# !pip install pyngrok\n",
        "# !pip install flask_ngrok\n",
        "# !pip install transformers\n",
        "# !pip install gTTS\n",
        "# !pip install pyjokes"
      ]
    },
    {
      "cell_type": "code",
      "execution_count": 32,
      "metadata": {
        "id": "Mf5MSfFk1uhp"
      },
      "outputs": [],
      "source": [
        "sad_songs=['‘Nothing Compares 2 U’ by Sinéad O’Connor',\n",
        " '‘Hurt’ by Johnny Cash',\n",
        " '‘Only Love Can Break Your Heart’ by Neil Young',\n",
        " '‘Teardrop’ by Massive Attack',\n",
        " '‘I Know It’s Over’ by The Smiths',\n",
        " '‘No Distance Left to Run’ by Blur',\n",
        " '‘The Boxer’ by Simon & Garfunkel',\n",
        " \n",
        " '‘No Name #5’ by Elliott Smith',\n",
        " '‘Tom Traubert’s Blues (Four Sheets to the Wind in Copenhagen)’ by Tom Waits',\n",
        " '‘Lazarus’ by David Bowie',\n",
        " ' ‘Strange Fruit‘ by Billie Holiday',\n",
        " '‘The River’ by Bruce Springsteen',\n",
        " '‘How to Disappear Completely’ by Radiohead',\n",
        " '‘Someone Great’ by LCD Soundsystem',\n",
        " '‘Disintegration’ by The Cure',\n",
        " '‘Famous Blue Raincoat’ by Leonard Cohen',\n",
        " '‘Re: Stacks’ by Bon Iver',\n",
        " '‘Boots of Spanish Leather’ by Bob Dylan',\n",
        " '‘Neither One of Us’ by Gladys Knight and the Pips',\n",
        " '‘Brick’ by Ben Folds Five',\n",
        " \n",
        "'‘Shipbuilding’ by Robert Wyatt',\n",
        " '‘A Change Is Gonna Come’ by Otis Redding',\n",
        " '‘Enjoy the Silence’ by Depeche Mode',\n",
        " '‘Blue’ by Joni Mitchell',\n",
        " ' ‘By the Time I Get to Phoenix’ by Isaac Hayes',\n",
        " '‘It’s So Hard to Say Goodbye to Yesterday’ by Boyz II Men',\n",
        " '‘Crying’ by Roy Orbison',\n",
        " '‘My Old Man’ by Ian Dury',\n",
        " '‘Where Dreams Go to Die’ by John Grant',\n",
        " '‘Black Eyed Dog’ by Nick Drake',\n",
        " '‘Shivers’ by The Boys Next Door',\n",
        " '‘Young Hearts Run Free’ by Candi Staton',\n",
        " '‘Silver’ by Caribou',\n",
        " ' ‘Waitin’ ’Round to Die’ by Townes Van Zandt',\n",
        " '‘Me and Little Andy’ by Dolly Parton',\n",
        " '‘La Ritournelle’ (Instrumental Mix) by Sebastien Tellier',\n",
        " ' ‘The Crying Game’ by Dave Berry',\n",
        " ' ‘Ghosts’ by Japan',\n",
        " ' ‘Moments of Pleasure’ by Kate Bush',\n",
        " '‘Swimming Pools (Drank)’ by Kendrick Lamar',\n",
        " '‘Swimming Pools (Drank)’ by Kendrick Lamar',\n",
        " '‘The Past is a Grotesque Animal’ by Of Montreal',\n",
        " '‘After Laughter (Comes Tears)’ by Wendy René',\n",
        " '‘Symphony of Sorrowful Songs, 2, Lento e Largo’ by Henryk Gorecki',\n",
        " '‘I Love Creedence’ by Casiotone For The Painfully Alone',\n",
        " \n",
        " ]"
      ]
    },
    {
      "cell_type": "code",
      "execution_count": 33,
      "metadata": {
        "id": "WiaNZJ_T1_At"
      },
      "outputs": [],
      "source": [
        "motivational_songs=[' ‘Ain’t No Mountain High Enough’ by Marvin Gaye and Tammi Terrell',\n",
        " '‘I Will Survive’ by Gloria Gaynor',\n",
        " '‘Lose Yourself’ by Eminem',\n",
        " '‘I’m Still Standing’ by Elton John',\n",
        " '‘Survivor’ by Destiny’s Child',\n",
        " '‘Harder, Better, Faster, Stronger’ by Daft Punk',\n",
        " '‘(Your Love Keeps Lifting Me) Higher and Higher’ by Jackie Wilson',\n",
        " '‘***Flawless’ by Beyoncé',\n",
        " '‘Born to Run’ by Bruce Springsteen',\n",
        " '‘Juicy’ by the Notorious BIG',\n",
        " '‘Heroes’ by David Bowie',\n",
        " '‘Move On Up’ by Curtis Mayfield',\n",
        " 'Roar’ by Katy Perry',\n",
        " ' ‘Started from the Bottom’ by Drake',\n",
        " ' ‘Girl on Fire’ by Alicia Keys',\n",
        " ' ‘I Won’t Back Down’ by Tom Petty',\n",
        " '‘Titanium’ by David Guetta ft. SIA',\n",
        " '‘True Colors’ by Cyndi Laupe',\n",
        " ' ‘Touch the Sky’ by Kanye West',\n",
        " '‘The Show Must Go on’ by Queen',\n",
        " '‘Unwritten’ by Natasha Bedingfield',\n",
        " '‘Stronger (What Doesn’t Kill You)’ by Kelly Clarkson',\n",
        " '‘Encore’ by Jay Z',\n",
        " '‘Live Forever’ by Oasis',\n",
        " ' ‘I’m the Best’ by Nicki Minaj',\n",
        " '‘Unstoppable’ by Santigold',\n",
        " ' ‘So What?’ by Pink',\n",
        " ' ‘Can’t Hold Us Down (ft ‘Lil Kim)’ by Christina Aguilera',\n",
        " '‘The Harder They Come’ by Jimmy Cliff',\n",
        " '‘Donot Give Up’ by Peter Gabriel and Kate Bush',\n",
        " '‘Eye of the Tiger’ by Survivor',\n",
        " '‘Break My Stride’ by Matthew Wilder',\n",
        " '‘Express Yourself’ by Madonna',\n",
        " 'Titanium, David Guetta featuring Sia',\n",
        " ' Dream On, Aerosmith',\n",
        " '. Don’t Stop Believin‘, Journey',\n",
        " 'Beautiful, Christina Aguilera',\n",
        " 'Don’t Worry Be Happy, Bobby McFerrin',\n",
        " 'Roar, Katy Perry',\n",
        " 'Hello Hurricane, Switchfoot',\n",
        " 'Fight Song, Rachel Platten',\n",
        " 'Lose Yourself, Eminem',\n",
        " 'Wavin’ Flag (Celebration Mix), K’naan',\n",
        " 'What a Wonderful World, Louis Armstrong',\n",
        " 'Walking on Sunshine, Katrina and the Waves',\n",
        " 'Three Little Birds, Bob Marley',\n",
        " 'Livin’ on a Prayer, Bon Jovi',\n",
        " 'Born This Way, Lady Gaga',\n",
        " ' Just the Way You Are, Bruno Mars',\n",
        " 'It’s the Final Countdown, Europe',\n",
        " 'Survivor, Destiny’s Child featuring Da Brat',\n",
        " 'True Colors (Trolls OST), Justin Timberlake and Anna Kendrick',\n",
        " 'Imagine, John Lennon and Yoko Ono',\n",
        " 'Head Above Water, Avril Lavigne',\n",
        " 'Stronger, Kelly Clarkson',\n",
        " 'Brave, Sara Bareilles',\n",
        " 'Sky Full of Stars, Coldplay',\n",
        " 'Rise Up, Andra Day',\n",
        " 'Eye of the Tiger, Survivor',\n",
        " 'One Day, Matisyahu',\n",
        " 'Firework, Katy Perry',\n",
        " 'Whatever It Takes, Imagine Dragons',\n",
        " 'I’m Still Standing, Elton John',\n",
        " 'Pyramid, Charice/Jake Zyrus featuring Iyaz',\n",
        " 'When You Believe, Whitney Houston featuring Mariah Carey',\n",
        " 'So What, P!nk',\n",
        " 'Hands, Jewel Kilcher',\n",
        " 'Tubthumping (I Get Knocked Down), by Chumbawamba',\n",
        " 'Shake It Off, by Taylor Swift',\n",
        " 'Let It Go, by Idina Menzel (Frozen OST)',\n",
        " 'The Climb, by Miley Cyrus',\n",
        " 'Learn to Fly, by Foo Fighters',\n",
        " 'I Don’t Wanna Wait, by Paula Cole',\n",
        " 'Roll With It, by Oasis',\n",
        " 'Ain’t No Mountain High Enough, by Tammi Terrell and Marvin Gaye',\n",
        " 'Not Afraid, by Eminem',\n",
        " 'I Got You (I Feel Good), by James Brown',\n",
        " 'Celebration, by Kool and the Gang',\n",
        " 'All Star, Smash Mouth',\n",
        " 'Love Is Your Name, by Steven Tyler',\n",
        " 'You Learn, by Alanis Morissette'\n",
        "\n",
        "\n",
        "\n",
        "\n",
        " ]"
      ]
    },
    {
      "cell_type": "code",
      "execution_count": 34,
      "metadata": {
        "id": "T54K-rIv8DIZ"
      },
      "outputs": [],
      "source": [
        "good_movies=['The Birdcage.','School of Rock.',\n",
        "'Love Actually.',\n",
        "'The Princess Bride.',\n",
        "'Clueless.',\n",
        "'Matilda.',\n",
        "'The Devil Wears Prada.',\n",
        "'Elf',\n",
        "'The Princess Diaries',\n",
        "'Legally Blonde',\n",
        "'Forrest Gump',\n",
        "' The Wizard of Oz',\n",
        "'Singin’ in the Rain',\n",
        "'Amelie',\n",
        "'When Harry Met Sally',\n",
        "'Bring It On',\n",
        "'The Help',\n",
        "'The Parent Trap',\n",
        "'Sister Act',\n",
        "' Mrs. Doubtfire',\n",
        "'The Pursuit of Happyness',\n",
        "'Bridesmaids',\n",
        "'Good Will Hunting',\n",
        "'Toy Story'\n",
        "\n",
        "]"
      ]
    },
    {
      "cell_type": "code",
      "execution_count": 35,
      "metadata": {
        "id": "AwkX9aIj8IPz"
      },
      "outputs": [],
      "source": [
        "sad_movies=['Pieces of a Woman (2021)',\n",
        "            'Little Women (2019)',\n",
        "            'Rent (2005)',\n",
        "            'Manchester by the Sea (2016)',\n",
        "            'Blackfish (2013)',\n",
        "            'A Walk to Remember (2002)',\n",
        "            'Inside Out (2015)',\n",
        "            'Ingrid Goes West (2017)',\n",
        "            'Ingrid Goes West (2017)',\n",
        "            'The Fault in Our Stars (2014)',\n",
        "            ]\n"
      ]
    },
    {
      "cell_type": "code",
      "execution_count": 36,
      "metadata": {
        "id": "zuelkCfZ8N6Z"
      },
      "outputs": [],
      "source": [
        "happy_songs=['\"Valerie\" by Mark Ronson ft. Amy Winehouse',\n",
        " '\"Good as Hell\" by Lizzo',\n",
        " '\"I Donot Want It at All\" by Kim Petras',\n",
        " '\"Sunday Best\" by Surfaces',\n",
        " '\"22\" by Taylor Swift',\n",
        " '\"Dancing Queen\" by ABBA',\n",
        " '\"Canot Stop the Feeling\" by Justin Timberlake',\n",
        " '\"I am Coming Out\" by Diana Ross',\n",
        " '\"Shut Up and Dance\" by Walk the Moon',\n",
        " '\"Love on Top\" by Beyoncé',\n",
        " '\"Spice Up Your Life\" by The Spice Girls',\n",
        " '\"I Wanna Dance With Somebody\" by Whitney Houston',\n",
        " '\"Why Not\" by Hilary Duff',\n",
        " '\"What Makes You Beautiful\" by One Direction',\n",
        " '\"I Gotta Feeling\" by The Black Eyed Peas',\n",
        " '\"Party in the USA\" by Miley Cyrus',\n",
        " '\"Happy\" by Pharrell Williams',\n",
        " '\"Walking on Sunshine\" by Katrina & The Waves',\n",
        " '\"Ainot No Mountain High Enough\" by Martin Gay and Tammi Terrell',\n",
        " '\"Come on Eileen\" by Dexys Midnight Runners',\n",
        " '\"C est La Vie\" by B*Witched',\n",
        " '\"Waterloo\" by ABBA',\n",
        " '\"Tide Is High\" by Atomic Kitten',\n",
        " '\"What Dreams Are Made Of\" by Hilary Duff',\n",
        " '\"Good as Gold\" by Scheana Marie',\n",
        " '\"Dont Stop Me Now\" by Queen',\n",
        " '27\"Stronger\" by Kelly Clarkson',\n",
        " '\"Unwritten\" by Natasha Bedingfield',\n",
        " '\"What the Hell\" by Avril Lavigne',\n",
        " '\"Burnin Up\" by The Jonas Brothers'\n",
        "\n",
        " \n",
        "\n",
        " ]\n"
      ]
    },
    {
      "cell_type": "code",
      "execution_count": 37,
      "metadata": {
        "id": "0Ly4BjEx8cT1"
      },
      "outputs": [],
      "source": [
        "motivational_quotes=[\"\"\"When you have a dream, you've got to grab it and never let go.\n",
        "— Carol Burnett\"\"\",\n",
        "\n",
        "\"\"\"Nothing is impossible. The word itself says 'I'm possible!'\n",
        "— Audrey Hepburn \"\"\",\n",
        "\"\"\"There is nothing impossible to they who will try.\n",
        "— Alexander the Great\"\"\",\n",
        "\n",
        "\"\"\"The bad news is time flies. The good news is you're the pilot\n",
        "— Michael Altshuler\"\"\",\n",
        "\n",
        "\"\"\"Life has got all those twists and turns. You've got to hold on tight and off you go\n",
        "— Nicole Kidman\"\"\",\n",
        "\n",
        "\"\"\"Keep your face always toward the sunshine, and shadows will fall behind you\n",
        "— Walt Whitman\"\"\"\n",
        "\n",
        "\"\"\"Be courageous. Challenge orthodoxy. Stand up for what you believe in. When you are in your rocking chair talking to your grandchildren many years from now, be sure you have a good story to tell\n",
        "— Amal Clooney\"\"\",\n",
        "\n",
        "\n",
        "\n",
        "\"\"\"You make a choice: continue living your life feeling muddled in this abyss of self-misunderstanding, or you find your identity independent of it. You draw your own box\n",
        "- Duchess Meghan\"\"\",\n",
        "\n",
        "\"\"\"Success is not final, failure is not fatal: it is the courage to continue that counts.\n",
        "- Winston Churchil\"\"\",\n",
        "\n",
        "\n",
        "\n",
        "\"\"\"You define your own life. Don't let other people write your script\n",
        "— Oprah Winfrey\"\"\",\n",
        "\n",
        "\"\"\"Spread love everywhere you go.\n",
        "— Mother Teresa\"\"\",\n",
        "\n",
        "\"\"\"Do not allow people to dim your shine because they are blinded. Tell them to put some sunglasses on.\n",
        "— Lady Gaga\"\"\",\n",
        "\n",
        "\"\"\"If you make your internal life a priority, then everything else you need on the outside will be given to you and it will be extremely clear what the next step is.\n",
        "— Gabrielle Bernstein\n",
        "\"\"\",\n",
        "\"\"\"You don't always need a plan. Sometimes you just need to breathe, trust, let go and see what happens.\n",
        "— Mandy Hale\"\"\",\n",
        "\n",
        "\"\"\"You can be everything. You can be the infinite amount of things that people are.\n",
        "— Mandy Hale\"\"\"\n",
        "]"
      ]
    },
    {
      "cell_type": "code",
      "execution_count": 38,
      "metadata": {
        "id": "_icYXj5E8g0r"
      },
      "outputs": [],
      "source": [
        "motivational_movies=['The Intouchables',\n",
        "                     'The Legend of 1900',\n",
        "                     'Whiplash',\n",
        "                     ' The Green Mile ',\n",
        "                     ' One Flew Over the Cuckoos Nest',\n",
        "                     'The Pianist',\n",
        "                     'Like Stars on Earth',\n",
        "                     'Good Will Hunting',\n",
        "                     'Eternal Sunshine of the Spotless Mind',\n",
        "                     'A Good Year',\n",
        "                     'A Beautiful Mind',\n",
        "                     'Million Dollar Baby',\n",
        "                     'Into the Wild',\n",
        "                     '12 Years a Slave',\n",
        "                     'The Truman Show',\n",
        "                     'Hachi: A Dogs Tale',\n",
        "                     'Hotel Rwanda',\n",
        "                     'The Imitation Game',\n",
        "                     'Slumdog Millionaire',\n",
        "                     'Scent of a Woman',\n",
        "                     'Dead Poets Society',\n",
        "                     'The Pursuit of Happyness',\n",
        "                     'Cinderella Man ',\n",
        "                     'The Notebook',\n",
        "                     ' Life of Pi',\n",
        "                     'Awakenings ',\n",
        "                     'Grizzly Man ',\n",
        "                     'Extraordinary People',\n",
        "                     'The Blind Side ',\n",
        "                     'Adaptation',\n",
        "                     ' The Impossible',\n",
        "                     ' Searching for Bobby Fischer ',\n",
        "                     'Reign Over Me ',\n",
        "                     'The Natural ',\n",
        "                     'Rudy ',\n",
        "                     ' The Greatest Game Ever Played ',\n",
        "                     'An Inconvenient Truth',\n",
        "                     'Freedom Writers']\n",
        "\n",
        "                     "
      ]
    },
    {
      "cell_type": "code",
      "source": [
        "motivational_quotes_1=[\"\"\" If it makes you nervous, you’re doing it right. —Childish Gambino\"\"\",\n",
        "\n",
        "\"\"\"What you do makes a difference, and you have to decide what kind of difference you want to make. —Jane Goodall\"\"\",\n",
        "\n",
        "\"\"\"I choose to make the rest of my life the best of my life. —Louise Hay\"\"\",\n",
        "\n",
        "\"\"\"In order to be irreplaceable one must always be different. —Coco Chanel\"\"\",\n",
        "\n",
        "\"\"\"Anything can make me stop and look and wonder, and sometimes learn  —Kurt Vonnegut\"\"\",\n",
        "\n",
        "\"\"\"People's passion and desire for authenticity is strong.  —Constance Wu \"\"\",\n",
        "\n",
        "\"\"\"A surplus of effort could overcome a deficit of confidence —Sonia Sotomayor\"\"\",\n",
        "\n",
        "\"\"\"Doubt is a killer. You just have to know who you are and what you stand for. —Jennifer Lopez\"\"\",\n",
        "\n",
        "\"\"\"There are three ways to ultimate success: The first way is to be kind. The second way is to be kind. The third way is to be kind —Mister Rogers\"\"\",\n",
        "\n",
        "\"\"\"No one changes the world who isn’t obsessed —Billie Jean King\"\"\",\n",
        "\n",
        "\"\"\"I learned a long time ago that there is something worse than missing the goal, and that’s not pulling the trigger —Mia Hamm\"\"\",\n",
        "\n",
        "\"\"\"Some people want it to happen, some wish it would happen, others make it happen. —Michael Jordan\"\"\",\n",
        "\"\"\"\n",
        "It is remarkable how much long-term advantage people like us have gotten by trying to be consistently not stupid, instead of trying to be very intelligent —Charlie Munger\"\"\"\n",
        "]"
      ],
      "metadata": {
        "id": "6t6vSAUdhJZF"
      },
      "execution_count": 39,
      "outputs": []
    },
    {
      "cell_type": "code",
      "source": [
        "motivational_quotes=motivational_quotes_1+motivational_quotes"
      ],
      "metadata": {
        "id": "VLS-thHwhCJU"
      },
      "execution_count": 40,
      "outputs": []
    },
    {
      "cell_type": "code",
      "source": [
        "funny_videos=['Nice, Ron',\n",
        "              'White Bear on Ice',\n",
        "'Guy Falls Asleep Playing EVE Online',\n",
        "'Dog Imitating a Siren',\n",
        "'Cat Jump Fail',\n",
        "'How is prangent formed',\n",
        "'Liam Neeson Doing Improv',\n",
        "'You Wanna Play a Little Game?',\n",
        "'She is a Wolf in Mouse Clothing',\n",
        "'Funniest Game Show Answers of All Time',\n",
        "'\"A Child\" Vine',\n",
        "' Hilarious Jack Russell Goes Crazy with Excitement',\n",
        "'Hi, I am Ed Asner',\n",
        "'Sulfur Hexafluoride Blooper',\n",
        "'Rammstein vs Cookie Monster',\n",
        "'Head Smashes Board',\n",
        "'Look at this Graph',\n",
        "' The Brakes',\n",
        "'Laughing Chewbacca mask lady',\n",
        "'Indoor plant serial killer',\n",
        "'Key & Peele — Gideon’s kitchen',\n",
        "'Grape Lady falls',\n",
        "'Joaquin Phoenix’s forehead',\n",
        "'Ultimate farting',\n",
        "'History of the entire world, I guess',\n",
        "'History of the entire world, I guess',\n",
        "'I can’t believe you’ve done this',\n",
        "'My heart will go on (terrible recorder meme)',\n",
        "\n",
        "]"
      ],
      "metadata": {
        "id": "UNzstXOypbF2"
      },
      "execution_count": 41,
      "outputs": []
    },
    {
      "cell_type": "code",
      "execution_count": 60,
      "metadata": {
        "id": "YEiaGezHrdbZ",
        "colab": {
          "base_uri": "https://localhost:8080/"
        },
        "outputId": "77207766-c6aa-4b0b-c657-d13ac9dfa5cd"
      },
      "outputs": [
        {
          "output_type": "stream",
          "name": "stdout",
          "text": [
            "ngrok: no process found\n",
            "NAME:\n",
            "   start - start tunnels by name from the configuration file\n",
            "\n",
            "USAGE:\n",
            "   ngrok start [command options] [arguments...]\n",
            "\n",
            "DESCRIPTION:\n",
            "   Starts tunnels by name from the configuration file. You may specify any\n",
            "   number of tunnel names. You may start all tunnels in the configuration\n",
            "   file with the --all switch.\n",
            "\n",
            "EXAMPLES:\n",
            "   ngrok start dev        # start tunnel named 'dev' in the configuration file\n",
            "   ngrok start web blog   # start tunnels named 'web' and 'blog'\n",
            "   ngrok start --all      # start all tunnels defined in the config file\n",
            "\n",
            "OPTIONS:\n",
            "   --all\t\tstart all tunnels in the configuration file\n",
            "   --authtoken \t\tngrok.com authtoken identifying a user\n",
            "   --config\t\tpath to config files; they are merged if multiple\n",
            "   --log \"false\"\tpath to log file, 'stdout', 'stderr' or 'false'\n",
            "   --log-format \"term\"\tlog record format: 'term', 'logfmt', 'json'\n",
            "   --log-level \"info\"\tlogging level\n",
            "   --none\t\tstart running no tunnels\n",
            "   --region \t\tngrok server region [us, eu, au, ap, sa, jp, in] (default: us)\n",
            "\n",
            "ERROR:  Your configuration file must define at least one tunnel when using --all. To intentionally start no tunnels, use `ngrok start --none.`\n"
          ]
        }
      ],
      "source": [
        "!killall ngrok\n",
        "!ngrok start --all"
      ]
    },
    {
      "cell_type": "code",
      "source": [
        "all_list=['motivational_movies','motivational_quotes','motivational_songs','good_movies','happy_songs','jokes','funny_videos']"
      ],
      "metadata": {
        "id": "KZtOfX7gnbAt"
      },
      "execution_count": 43,
      "outputs": []
    },
    {
      "cell_type": "code",
      "execution_count": 73,
      "metadata": {
        "colab": {
          "base_uri": "https://localhost:8080/"
        },
        "id": "krsNbu7rJaXw",
        "outputId": "3f679cd2-bbaa-4901-9d65-5e8bde0e0ff1"
      },
      "outputs": [
        {
          "output_type": "stream",
          "name": "stderr",
          "text": [
            "No model was supplied, defaulted to distilbert-base-uncased-finetuned-sst-2-english and revision af0f99b (https://huggingface.co/distilbert-base-uncased-finetuned-sst-2-english).\n",
            "Using a pipeline without specifying a model name and revision in production is not recommended.\n"
          ]
        },
        {
          "output_type": "stream",
          "name": "stdout",
          "text": [
            "To acces the Gloable link please click http://c8fa-35-245-25-49.ngrok.io\n",
            " * Serving Flask app \"__main__\" (lazy loading)\n",
            " * Environment: production\n",
            "\u001b[31m   WARNING: This is a development server. Do not use it in a production deployment.\u001b[0m\n",
            "\u001b[2m   Use a production WSGI server instead.\u001b[0m\n",
            " * Debug mode: off\n"
          ]
        },
        {
          "output_type": "stream",
          "name": "stderr",
          "text": [
            "INFO:werkzeug: * Running on http://127.0.0.1:5000/ (Press CTRL+C to quit)\n",
            "INFO:werkzeug:127.0.0.1 - - [18/Sep/2022 11:03:27] \"\u001b[37mGET / HTTP/1.1\u001b[0m\" 200 -\n",
            "INFO:werkzeug:127.0.0.1 - - [18/Sep/2022 11:03:28] \"\u001b[33mGET /favicon.ico HTTP/1.1\u001b[0m\" 404 -\n"
          ]
        },
        {
          "output_type": "stream",
          "name": "stdout",
          "text": [
            "sentiment POSITIVE\n"
          ]
        },
        {
          "output_type": "stream",
          "name": "stderr",
          "text": [
            "INFO:werkzeug:127.0.0.1 - - [18/Sep/2022 11:04:01] \"\u001b[37mGET /get?msg=hi HTTP/1.1\u001b[0m\" 200 -\n"
          ]
        },
        {
          "output_type": "stream",
          "name": "stdout",
          "text": [
            "['<s> Hi! How are you? I just got back from walking my dog. Do you have any pets?</s>']\n",
            "output = Hi! How are you? I just got back from walking my dog. Do you have any pets?\n",
            "sentiment POSITIVE\n"
          ]
        },
        {
          "output_type": "stream",
          "name": "stderr",
          "text": [
            "INFO:werkzeug:127.0.0.1 - - [18/Sep/2022 11:04:32] \"\u001b[37mGET /get?msg=i%20am%20so%20happy HTTP/1.1\u001b[0m\" 200 -\n"
          ]
        },
        {
          "output_type": "stream",
          "name": "stdout",
          "text": [
            "['<s> I am glad to hear that.  What made you so happy?  Did something good happen?</s>']\n",
            "output = I am glad to hear that.  What made you so happy?  Did something good happen?\n",
            "sentiment NEGATIVE\n",
            "sentiment list len=3\n",
            "no of positive if high\n"
          ]
        },
        {
          "output_type": "stream",
          "name": "stderr",
          "text": [
            "INFO:werkzeug:127.0.0.1 - - [18/Sep/2022 11:05:04] \"\u001b[37mGET /get?msg=bye HTTP/1.1\u001b[0m\" 200 -\n"
          ]
        },
        {
          "output_type": "stream",
          "name": "stdout",
          "text": [
            "[\"<s> Have you ever been in a car accident? I've been in one and it was terrifying.</s>\"]\n",
            "output = Have you ever been in a car accident? I've been in one and it was terrifying.\n",
            "sentiment NEGATIVE\n"
          ]
        },
        {
          "output_type": "stream",
          "name": "stderr",
          "text": [
            "INFO:werkzeug:127.0.0.1 - - [18/Sep/2022 11:05:35] \"\u001b[37mGET /get?msg=i%20am%20so%20sad%20today HTTP/1.1\u001b[0m\" 200 -\n"
          ]
        },
        {
          "output_type": "stream",
          "name": "stdout",
          "text": [
            "[\"<s> I'm sorry to hear that. Why are you sad? I hope you feel better soon.</s>\"]\n",
            "output = I'm sorry to hear that. Why are you sad? I hope you feel better soon.\n",
            "sentiment NEGATIVE\n"
          ]
        },
        {
          "output_type": "stream",
          "name": "stderr",
          "text": [
            "INFO:werkzeug:127.0.0.1 - - [18/Sep/2022 11:06:09] \"\u001b[37mGET /get?msg=i%20am%20sad HTTP/1.1\u001b[0m\" 200 -\n"
          ]
        },
        {
          "output_type": "stream",
          "name": "stdout",
          "text": [
            "[\"<s> I'm sorry to hear that. Why are you sad, if you don't mind me asking?</s>\"]\n",
            "output = I'm sorry to hear that. Why are you sad, if you don't mind me asking?\n",
            "sentiment NEGATIVE\n",
            "sentiment list len=3\n",
            "no of negetive if high\n",
            "a if i have to feel your sad sentiment i will you recommend feel good song yes --> yes else continue with chat \n",
            "[\"<s> Have you ever been in a car accident? I've been in one and it was terrifying.</s>\"]\n",
            "sentiment= 3 bye\n",
            "happy_songs\n"
          ]
        },
        {
          "output_type": "stream",
          "name": "stderr",
          "text": [
            "INFO:werkzeug:127.0.0.1 - - [18/Sep/2022 11:06:29] \"\u001b[37mGET /get?msg=bye HTTP/1.1\u001b[0m\" 200 -\n"
          ]
        },
        {
          "output_type": "stream",
          "name": "stdout",
          "text": [
            "sentiment NEGATIVE\n"
          ]
        },
        {
          "output_type": "stream",
          "name": "stderr",
          "text": [
            "INFO:werkzeug:127.0.0.1 - - [18/Sep/2022 11:07:45] \"\u001b[37mGET /get?msg=sad HTTP/1.1\u001b[0m\" 200 -\n"
          ]
        },
        {
          "output_type": "stream",
          "name": "stdout",
          "text": [
            "[\"<s> I'm sorry to hear that. I hope you feel better soon. Do you want to talk about it?</s>\"]\n",
            "output = I'm sorry to hear that. I hope you feel better soon. Do you want to talk about it?\n",
            "sentiment NEGATIVE\n"
          ]
        },
        {
          "output_type": "stream",
          "name": "stderr",
          "text": [
            "INFO:werkzeug:127.0.0.1 - - [18/Sep/2022 11:09:14] \"\u001b[37mGET /get?msg=sadad HTTP/1.1\u001b[0m\" 200 -\n"
          ]
        },
        {
          "output_type": "stream",
          "name": "stdout",
          "text": [
            "[\"<s> Do you know anyone who is a saddad? It's a person who is saddled by loss or loss of a loved one.</s>\"]\n",
            "output = Do you know anyone who is a saddad? It's a person who is saddled by loss or loss of a loved one.\n",
            "sentiment NEGATIVE\n",
            "sentiment list len=3\n",
            "no of negetive if high\n",
            "a if i have to feel your sad sentiment i will you recommend feel good song yes --> yes else continue with chat \n"
          ]
        },
        {
          "output_type": "stream",
          "name": "stderr",
          "text": [
            "INFO:werkzeug:127.0.0.1 - - [18/Sep/2022 11:09:37] \"\u001b[37mGET /get?msg=bye HTTP/1.1\u001b[0m\" 200 -\n"
          ]
        },
        {
          "output_type": "stream",
          "name": "stdout",
          "text": [
            "[\"<s> Have you ever been in a car accident? I've been in one and it was terrifying.</s>\"]\n",
            "sentiment= 3 bye\n",
            "motivational_quotes\n",
            "sentiment NEGATIVE\n"
          ]
        },
        {
          "output_type": "stream",
          "name": "stderr",
          "text": [
            "INFO:werkzeug:127.0.0.1 - - [18/Sep/2022 11:10:36] \"\u001b[37mGET /get?msg=sad HTTP/1.1\u001b[0m\" 200 -\n"
          ]
        },
        {
          "output_type": "stream",
          "name": "stdout",
          "text": [
            "[\"<s> I'm sorry to hear that. I hope you feel better soon. Do you want to talk about it?</s>\"]\n",
            "output = I'm sorry to hear that. I hope you feel better soon. Do you want to talk about it?\n",
            "sentiment NEGATIVE\n"
          ]
        },
        {
          "output_type": "stream",
          "name": "stderr",
          "text": [
            "INFO:werkzeug:127.0.0.1 - - [18/Sep/2022 11:11:06] \"\u001b[37mGET /get?msg=sad HTTP/1.1\u001b[0m\" 200 -\n"
          ]
        },
        {
          "output_type": "stream",
          "name": "stdout",
          "text": [
            "[\"<s> I'm sorry to hear that. I hope you feel better soon. Do you want to talk about it?</s>\"]\n",
            "output = I'm sorry to hear that. I hope you feel better soon. Do you want to talk about it?\n",
            "sentiment NEGATIVE\n",
            "sentiment list len=3\n",
            "no of negetive if high\n",
            "a if i have to feel your sad sentiment i will you recommend feel good song yes --> yes else continue with chat \n"
          ]
        },
        {
          "output_type": "stream",
          "name": "stderr",
          "text": [
            "INFO:werkzeug:127.0.0.1 - - [18/Sep/2022 11:11:21] \"\u001b[37mGET /get?msg=sad HTTP/1.1\u001b[0m\" 200 -\n"
          ]
        },
        {
          "output_type": "stream",
          "name": "stdout",
          "text": [
            "[\"<s> I'm sorry to hear that. I hope you feel better soon. Do you want to talk about it?</s>\"]\n",
            "sentiment= 3 sad\n",
            "motivational_quotes\n",
            "sentiment NEGATIVE\n"
          ]
        },
        {
          "output_type": "stream",
          "name": "stderr",
          "text": [
            "INFO:werkzeug:127.0.0.1 - - [18/Sep/2022 11:11:57] \"\u001b[37mGET /get?msg=sad HTTP/1.1\u001b[0m\" 200 -\n"
          ]
        },
        {
          "output_type": "stream",
          "name": "stdout",
          "text": [
            "[\"<s> I'm sorry to hear that. I hope you feel better soon. Do you want to talk about it?</s>\"]\n",
            "output = I'm sorry to hear that. I hope you feel better soon. Do you want to talk about it?\n",
            "sentiment NEGATIVE\n"
          ]
        },
        {
          "output_type": "stream",
          "name": "stderr",
          "text": [
            "INFO:werkzeug:127.0.0.1 - - [18/Sep/2022 11:12:25] \"\u001b[37mGET /get?msg=sad HTTP/1.1\u001b[0m\" 200 -\n"
          ]
        },
        {
          "output_type": "stream",
          "name": "stdout",
          "text": [
            "[\"<s> I'm sorry to hear that. I hope you feel better soon. Do you want to talk about it?</s>\"]\n",
            "output = I'm sorry to hear that. I hope you feel better soon. Do you want to talk about it?\n",
            "sentiment NEGATIVE\n",
            "sentiment list len=3\n",
            "no of negetive if high\n",
            "a if i have to feel your sad sentiment i will you recommend feel good song yes --> yes else continue with chat \n",
            "[\"<s> I'm sorry to hear that. I hope you feel better soon. Do you want to talk about it?</s>\"]\n",
            "sentiment= 3 sad\n",
            "motivational_songs\n"
          ]
        },
        {
          "output_type": "stream",
          "name": "stderr",
          "text": [
            "INFO:werkzeug:127.0.0.1 - - [18/Sep/2022 11:12:58] \"\u001b[37mGET /get?msg=sad HTTP/1.1\u001b[0m\" 200 -\n"
          ]
        }
      ],
      "source": [
        "import pyjokes\n",
        "from transformers import BlenderbotTokenizer, BlenderbotForConditionalGeneration\n",
        "from transformers import pipeline\n",
        "from flask import Flask,render_template\n",
        "from flask import Flask, render_template, request\n",
        "from flask_ngrok import run_with_ngrok\n",
        "from gtts import gTTS\n",
        "thersold=3\n",
        "import random\n",
        "from IPython.display import Audio\n",
        "import urllib.request\n",
        "import re\n",
        "port_no=5000\n",
        "from pyngrok import ngrok\n",
        "sentiment_list=[]\n",
        "setiment_analysis=pipeline('sentiment-analysis')\n",
        "positive=0\n",
        "negative=0\n",
        "mname = \"facebook/blenderbot-400M-distill\"\n",
        "app = Flask(__name__)\n",
        "ngrok.set_auth_token(\"2EwBOUWrJwYhseJQA2iUShIDqEq_4UEw7g2SGag1etS1q79U8\")\n",
        "public_url =  ngrok.connect(port_no).public_url\n",
        "\n",
        "@app.route(\"/\")\n",
        "def home():\n",
        "  return render_template('index.html')\n",
        "def sentimentanlysis(text):\n",
        "  a=''\n",
        "  \n",
        "  sentiment=setiment_analysis(text)\n",
        "  print(f\"sentiment {sentiment[0]['label']}\")\n",
        "  sentiment_list.append(sentiment[0]['label'])\n",
        "  if len(sentiment_list)!=thersold:\n",
        "    model = BlenderbotForConditionalGeneration.from_pretrained(mname)\n",
        "    tokenizer = BlenderbotTokenizer.from_pretrained(mname)\n",
        "\n",
        "\n",
        "\n",
        "    inputs = tokenizer([text], return_tensors=\"pt\")\n",
        "    reply_ids = model.generate(**inputs)\n",
        "    output_model=tokenizer.batch_decode(reply_ids)\n",
        "    \n",
        "    return str(output_model[0][4:-4])\n",
        "\n",
        "  if len(sentiment_list)==thersold:\n",
        "\n",
        "\n",
        "    positive=sentiment_list.count('POSITIVE')\n",
        "    negative=sentiment_list.count('NEGATIVE')\n",
        "    print(f'sentiment list len={thersold}')\n",
        "    if positive<negative:\n",
        "      print(f'no of negetive if high')\n",
        "      a=a+'if i have to feel your sad sentiment i will you recommend feel good song yes --> yes else continue with chat '\n",
        "      # sentiment_list.clear()\n",
        "      # positive=0\n",
        "      # negative=0\n",
        "      print('a',a)\n",
        "      output_model=str(a)\n",
        "      return output_model\n",
        "      print('a',a)\n",
        "    else:\n",
        "      print(f'no of positive if high')\n",
        "      model = BlenderbotForConditionalGeneration.from_pretrained(mname)\n",
        "      tokenizer = BlenderbotTokenizer.from_pretrained(mname)\n",
        "  \n",
        "  \n",
        "\n",
        "      inputs = tokenizer([text], return_tensors=\"pt\")\n",
        "      reply_ids = model.generate(**inputs)\n",
        "      output_model=tokenizer.batch_decode(reply_ids)\n",
        "      #if len(sentiment_list)==3:\n",
        "      sentiment_list.clear()\n",
        "      positive=0\n",
        "      negative=0\n",
        "      return str(output_model[0][4:-4])\n",
        "\n",
        "    \n",
        "#   userText = request.args.get('msg')\n",
        "#   print(userText)\n",
        "#   if userText=='yes':\n",
        "\n",
        "#     return 'some way to motivate for you song --> s quotes --> q movies --> m or joke --> j'\n",
        "#   userText = request.args.get('msg')\n",
        "\n",
        "#   if userText.lower()=='s':\n",
        "#     song_name=recomented_fun(motivational_songs)\n",
        "#     song_name=song_name.replace(' ','')\n",
        "#     return create_url(song_name)\n",
        "\n",
        "#   elif userText.lower()=='q':\n",
        "#     quotes=recomented_fun(motivational_quotes)\n",
        "#     return quotes\n",
        "#   elif userText.lower()=='m':\n",
        "#     movie=recomented_fun(motivational_movies)\n",
        "#     return movie\n",
        "  \n",
        "#   elif userText.lower()=='j':\n",
        "#     return 'jokes'\n",
        "\n",
        "  \n",
        "# def create_url(text):\n",
        "#   import urllib.request\n",
        "#   import re\n",
        "\n",
        "#   search_keyword=text.replace(' ','')\n",
        "#   html = urllib.request.urlopen(\"https://www.youtube.com/results?search_query=\" + search_keyword)\n",
        "#   video_ids = re.findall(r\"watch\\?v=(\\S{11})\", html.read().decode())\n",
        "#   link=\"https://www.youtube.com/watch?v=\" + video_ids[0]\n",
        "#   return link\n",
        "  \n",
        "def create_url(text):\n",
        "  \n",
        "\n",
        "  search_keyword=text.replace(' ','')\n",
        "  html = urllib.request.urlopen(\"https://www.youtube.com/results?search_query=\" + search_keyword)\n",
        "  video_ids = re.findall(r\"watch\\?v=(\\S{11})\", html.read().decode())\n",
        "  link=\"https://www.youtube.com/watch?v=\" + video_ids[0]\n",
        "  return link\n",
        "\n",
        "def recomented_fun(type_of):\n",
        " \n",
        "  length_list=len(type_of)\n",
        "  index=random.randrange(0,length_list)\n",
        "\n",
        "  return type_of[index]\n",
        "def only_sentiment(text):\n",
        "  return setiment_analysis(text)\n",
        "\n",
        "@app.route(\"/get\")\n",
        "def get_bot_response():\n",
        "  userText = request.args.get('msg')\n",
        "  # if userText.lower()=='bye':\n",
        "  #   app.do_teardown_appcontext()\n",
        "\n",
        "  ## sentiment analysis\n",
        "  sentiment=sentimentanlysis(userText)\n",
        "  \n",
        "\n",
        "  model = BlenderbotForConditionalGeneration.from_pretrained(mname)\n",
        "  tokenizer = BlenderbotTokenizer.from_pretrained(mname)\n",
        "  \n",
        "  \n",
        "\n",
        "  inputs = tokenizer([userText], return_tensors=\"pt\")\n",
        "  reply_ids = model.generate(**inputs)\n",
        "  output_model=tokenizer.batch_decode(reply_ids)\n",
        "  print(output_model)\n",
        "  if sentiment!='' and len(sentiment_list)!=thersold:\n",
        "    print(f'output = {sentiment}')\n",
        "    output_model=str(sentiment)\n",
        "    return str(output_model)\n",
        "  if len(sentiment_list)==thersold:\n",
        "\n",
        "    userText = request.args.get('msg')\n",
        "    print(f'sentiment= {thersold}',userText)\n",
        "    final_return=''\n",
        "    if only_sentiment(userText)=='POSITIVE' or 'NEGATIVE':\n",
        "\n",
        "      index=random.randrange(0,len(all_list))\n",
        "      type_of=all_list[index]\n",
        "      if type_of=='motivational_songs':\n",
        "        print('motivational_songs')\n",
        "        motisong_name=recomented_fun(motivational_songs)\n",
        "        motisong_name=motisong_name.replace(' ','')\n",
        "        song_url=create_url(motisong_name)\n",
        "        #if len(sentiment_list)==3:\n",
        "        sentiment_list.clear()\n",
        "        positive=0\n",
        "        negative=0\n",
        "        return f'recommended 💪 motivational 💪 youtube song link --->   👉  <a href={song_url}>link text</a> 👈'  \n",
        "      \n",
        "      elif type_of=='happy_songs':\n",
        "        print('happy_songs')\n",
        "        song_name=recomented_fun(happy_songs)\n",
        "        song_name=song_name.replace(' ','')\n",
        "        song_url=create_url(song_name)\n",
        "        #if len(sentiment_list)==3:\n",
        "        sentiment_list.clear()\n",
        "        positive=0\n",
        "        negative=0\n",
        "        return f'i think your sentiment is sad or unmotivated so i will recommended   🙂 feel_happy 🙂   youtube song link --->     👉 <a href={song_url}>link text</a>   👈 '\n",
        "      elif type_of=='motivational_quotes':\n",
        "        print('motivational_quotes')\n",
        "        quotes=recomented_fun(motivational_quotes)\n",
        "        #if len(sentiment_list)==3:\n",
        "        sentiment_list.clear()\n",
        "        positive=0\n",
        "        negative=0\n",
        "        return f'i think your sentiment is sad or unmotivated so i will recommended  💪 motivational 💪 quotes --->    {quotes}  '\n",
        "      elif type_of=='motivational_movies':\n",
        "        print('motivational_movies')\n",
        "        movie=recomented_fun(motivational_movies)\n",
        "        movie_trailer=create_url(movie+'trailer')\n",
        "        #if len(sentiment_list)==3:\n",
        "        sentiment_list.clear()\n",
        "        positive=0\n",
        "        negative=0\n",
        "        return f' i think your sentiment is sad or unmotivated so i will recommended 💪  motivational 💪  movie trailer --->  👉  <a href={movie_trailer}>link text</a> 👈 '\n",
        "      elif type_of=='funny_videos':\n",
        "        print('funny_videos')\n",
        "        funny_video=recomented_fun(funny_videos)\n",
        "        funny_video_url=create_url(funny_video)\n",
        "        #if len(sentiment_list)==3:\n",
        "        sentiment_list.clear()\n",
        "        positive=0\n",
        "        negative=0\n",
        "        return f' i think your sentiment is sad or unmotivated so i will recommended 😂  funny 😂  video  --->  👉  <a href={funny_video_url}>link text</a>  👈 '\n",
        "      elif type_of=='jokes':\n",
        "        print('jokes')\n",
        "        My_joke = pyjokes.get_joke(language=\"en\", category=\"all\")\n",
        "       \n",
        "        lan='en'\n",
        "        gtts_obj=gTTS(text=My_joke,lang=lan,slow=False)\n",
        "        gtts_obj.save('/content/sample.wav')\n",
        "        \n",
        "        Audio('/content/sample.wav',autoplay=True)\n",
        "        sentiment_list.clear()\n",
        "        positive=0\n",
        "        negative=0\n",
        "        return f'i think your sentiment is sad or unmotivated so i will recommended play the jokes 😜  {My_joke}  '\n",
        "        \n",
        "  userText = request.args.get('msg')\n",
        "\n",
        "  \n",
        "  \n",
        "      \n",
        "  return str(output_model[0][4:-4])\n",
        "\n",
        "print(f\"To acces the Gloable link please click {public_url}\")\n",
        "\n",
        "app.run(port=port_no)"
      ]
    },
    {
      "cell_type": "code",
      "execution_count": 45,
      "metadata": {
        "colab": {
          "base_uri": "https://localhost:8080/"
        },
        "id": "zfHQH2qZVakK",
        "outputId": "25a8a615-d4a7-4081-d40a-78a916061251"
      },
      "outputs": [
        {
          "output_type": "execute_result",
          "data": {
            "text/plain": [
              "0"
            ]
          },
          "metadata": {},
          "execution_count": 45
        }
      ],
      "source": [
        "len(sentiment_list)"
      ]
    },
    {
      "cell_type": "code",
      "execution_count": 45,
      "metadata": {
        "id": "X_S2jDbMZEKr"
      },
      "outputs": [],
      "source": []
    },
    {
      "cell_type": "code",
      "execution_count": 46,
      "metadata": {
        "id": "mLxCUbuINwKo"
      },
      "outputs": [],
      "source": [
        "# def recommended_sytem():\n",
        "#   import random\n",
        "#   import urllib.request\n",
        "#   import re\n",
        "  \n",
        "  \n",
        "#   search_keyword=\"dangaltrailer\"\n",
        "#   html = urllib.request.urlopen(\"https://www.youtube.com/results?search_query=\" + search_keyword)\n",
        "#   video_ids = re.findall(r\"watch\\?v=(\\S{11})\", html.read().decode())\n",
        "#   link=(\"https://www.youtube.com/watch?v=\" + video_ids[0])\n",
        "#   return link\n",
        "\n",
        "# import urllib.request\n",
        "# import re\n",
        "\n",
        "# search_keyword=input('enter here ').replace(' ','')\n",
        "# html = urllib.request.urlopen(\"https://www.youtube.com/results?search_query=\" + search_keyword)\n",
        "# video_ids = re.findall(r\"watch\\?v=(\\S{11})\", html.read().decode())\n",
        "# link=\"https://www.youtube.com/watch?v=\" + video_ids[0]\n",
        "# ## def recoomented_fun(type_of):\n",
        "# #   import random\n",
        "# #   length_list=len(type_of)\n",
        "# #   index=random.randrange(0,length_list)\n",
        "\n",
        "# #   return type_of[index]\n",
        "# import random\n",
        "# random.randrange(0,100)"
      ]
    },
    {
      "cell_type": "code",
      "execution_count": 67,
      "metadata": {
        "id": "ulxbC_WgOMHO"
      },
      "outputs": [],
      "source": [
        "def create_url(text):\n",
        "  \n",
        "\n",
        "  search_keyword=text.replace(' ','')\n",
        "  html = urllib.request.urlopen(\"https://www.youtube.com/results?search_query=\" + search_keyword)\n",
        "  video_ids = re.findall(r\"watch\\?v=(\\S{11})\", html.read().decode())\n",
        "  link=\"https://www.youtube.com/watch?v=\" + video_ids[0]\n",
        "  return link\n",
        "\n",
        "def recomented_fun(type_of):\n",
        " \n",
        "  length_list=len(type_of)\n",
        "  index=random.randrange(0,length_list)\n",
        "\n",
        "  return type_of[index]"
      ]
    },
    {
      "cell_type": "code",
      "execution_count": 69,
      "metadata": {
        "id": "RiexUSYNfQwK"
      },
      "outputs": [],
      "source": [
        "a=recomented_fun(motivational_songs)"
      ]
    },
    {
      "cell_type": "code",
      "execution_count": 70,
      "metadata": {
        "id": "jnM6CMjCZ1qV",
        "colab": {
          "base_uri": "https://localhost:8080/",
          "height": 36
        },
        "outputId": "8eb8ec27-404f-44c6-8acb-45274685cb5f"
      },
      "outputs": [
        {
          "output_type": "execute_result",
          "data": {
            "text/plain": [
              "'https://www.youtube.com/watch?v=L_jWHffIx5E'"
            ],
            "application/vnd.google.colaboratory.intrinsic+json": {
              "type": "string"
            }
          },
          "metadata": {},
          "execution_count": 70
        }
      ],
      "source": [
        "create_url(a)"
      ]
    },
    {
      "cell_type": "code",
      "execution_count": 46,
      "metadata": {
        "id": "o2CThMi-bfBU"
      },
      "outputs": [],
      "source": []
    },
    {
      "cell_type": "code",
      "execution_count": 46,
      "metadata": {
        "id": "jImos1BHuoxT"
      },
      "outputs": [],
      "source": []
    },
    {
      "cell_type": "code",
      "execution_count": 46,
      "metadata": {
        "id": "HCiCjmoIvA7X"
      },
      "outputs": [],
      "source": []
    },
    {
      "cell_type": "code",
      "execution_count": 46,
      "metadata": {
        "id": "aPhJ9N8FPKaH"
      },
      "outputs": [],
      "source": []
    },
    {
      "cell_type": "code",
      "execution_count": 46,
      "metadata": {
        "id": "_yGepzB6R7q3"
      },
      "outputs": [],
      "source": []
    },
    {
      "cell_type": "code",
      "source": [],
      "metadata": {
        "id": "OFQn-6H9kOjQ"
      },
      "execution_count": 46,
      "outputs": []
    },
    {
      "cell_type": "code",
      "source": [],
      "metadata": {
        "id": "AkfNPIgqke3-"
      },
      "execution_count": 46,
      "outputs": []
    },
    {
      "cell_type": "code",
      "execution_count": 46,
      "metadata": {
        "id": "LzD3fWHra2Pl"
      },
      "outputs": [],
      "source": []
    },
    {
      "cell_type": "code",
      "source": [],
      "metadata": {
        "id": "Ah7CLN2DlNNk"
      },
      "execution_count": 46,
      "outputs": []
    },
    {
      "cell_type": "code",
      "execution_count": 46,
      "metadata": {
        "id": "UehFD3AKHmA3"
      },
      "outputs": [],
      "source": []
    },
    {
      "cell_type": "code",
      "execution_count": 46,
      "metadata": {
        "id": "XmCBiJwcGmB6"
      },
      "outputs": [],
      "source": []
    },
    {
      "cell_type": "code",
      "execution_count": 46,
      "metadata": {
        "id": "M0_fgXJlI2fA"
      },
      "outputs": [],
      "source": []
    },
    {
      "cell_type": "code",
      "execution_count": 46,
      "metadata": {
        "id": "TC-BoJGAJL-v"
      },
      "outputs": [],
      "source": []
    },
    {
      "cell_type": "code",
      "execution_count": 46,
      "metadata": {
        "id": "t5h5f8PYbDhd"
      },
      "outputs": [],
      "source": []
    },
    {
      "cell_type": "code",
      "execution_count": 46,
      "metadata": {
        "id": "GCva_reGceuF"
      },
      "outputs": [],
      "source": []
    },
    {
      "cell_type": "code",
      "execution_count": 46,
      "metadata": {
        "id": "eAwOmxpwLVAN"
      },
      "outputs": [],
      "source": []
    },
    {
      "cell_type": "code",
      "execution_count": 46,
      "metadata": {
        "id": "wOrIudYfm3MJ"
      },
      "outputs": [],
      "source": []
    },
    {
      "cell_type": "code",
      "execution_count": 46,
      "metadata": {
        "id": "SSNSNWNxoYdv"
      },
      "outputs": [],
      "source": []
    },
    {
      "cell_type": "code",
      "execution_count": 46,
      "metadata": {
        "id": "P7Li5SSncmkl"
      },
      "outputs": [],
      "source": []
    },
    {
      "cell_type": "code",
      "execution_count": 46,
      "metadata": {
        "id": "r4dYguoylQu6"
      },
      "outputs": [],
      "source": []
    },
    {
      "cell_type": "code",
      "execution_count": 46,
      "metadata": {
        "id": "D9ammyg5dq5s"
      },
      "outputs": [],
      "source": []
    },
    {
      "cell_type": "code",
      "execution_count": 46,
      "metadata": {
        "id": "0tyaODqqfurs"
      },
      "outputs": [],
      "source": []
    },
    {
      "cell_type": "code",
      "execution_count": 46,
      "metadata": {
        "id": "JcepvVEsgn0_"
      },
      "outputs": [],
      "source": []
    },
    {
      "cell_type": "code",
      "execution_count": 46,
      "metadata": {
        "id": "UYS6TreupLyk"
      },
      "outputs": [],
      "source": []
    },
    {
      "cell_type": "code",
      "execution_count": 46,
      "metadata": {
        "id": "6YYsJKKmh87l"
      },
      "outputs": [],
      "source": []
    },
    {
      "cell_type": "code",
      "execution_count": 46,
      "metadata": {
        "id": "KYHgKIlcpCzA"
      },
      "outputs": [],
      "source": [
        "\n"
      ]
    },
    {
      "cell_type": "code",
      "execution_count": 46,
      "metadata": {
        "id": "0Oytf93e0gSI"
      },
      "outputs": [],
      "source": []
    }
  ],
  "metadata": {
    "accelerator": "GPU",
    "colab": {
      "collapsed_sections": [],
      "provenance": []
    },
    "kernelspec": {
      "display_name": "Python 3",
      "name": "python3"
    },
    "language_info": {
      "name": "python"
    }
  },
  "nbformat": 4,
  "nbformat_minor": 0
}